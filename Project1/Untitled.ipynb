{
 "cells": [
  {
   "cell_type": "code",
   "execution_count": 1,
   "metadata": {},
   "outputs": [],
   "source": [
    "import numpy as np\n",
    "try:\n",
    "    sys.path.remove('/opt/ros/kinetic/lib/python2.7/dist-packages')\n",
    "except:\n",
    "    pass\n",
    "\n",
    "\n",
    "import cv2\n",
    "import math\n",
    "import copy"
   ]
  },
  {
   "cell_type": "code",
   "execution_count": 4,
   "metadata": {},
   "outputs": [
    {
     "ename": "IndexError",
     "evalue": "list index out of range",
     "output_type": "error",
     "traceback": [
      "\u001b[0;31m---------------------------------------------------------------------------\u001b[0m",
      "\u001b[0;31mIndexError\u001b[0m                                Traceback (most recent call last)",
      "\u001b[0;32m<ipython-input-4-a56b8cb8dd9d>\u001b[0m in \u001b[0;36m<module>\u001b[0;34m()\u001b[0m\n\u001b[1;32m     38\u001b[0m \u001b[0;34m\u001b[0m\u001b[0m\n\u001b[1;32m     39\u001b[0m     \u001b[0mdraw\u001b[0m \u001b[0;34m=\u001b[0m \u001b[0mcv2\u001b[0m\u001b[0;34m.\u001b[0m\u001b[0mdrawKeypoints\u001b[0m\u001b[0;34m(\u001b[0m\u001b[0mres\u001b[0m\u001b[0;34m,\u001b[0m \u001b[0mkeypoints\u001b[0m\u001b[0;34m,\u001b[0m \u001b[0mnp\u001b[0m\u001b[0;34m.\u001b[0m\u001b[0marray\u001b[0m\u001b[0;34m(\u001b[0m\u001b[0;34m[\u001b[0m\u001b[0;34m]\u001b[0m\u001b[0;34m)\u001b[0m\u001b[0;34m,\u001b[0m \u001b[0;34m(\u001b[0m\u001b[0;36m0\u001b[0m\u001b[0;34m,\u001b[0m\u001b[0;36m0\u001b[0m\u001b[0;34m,\u001b[0m\u001b[0;36m255\u001b[0m\u001b[0;34m)\u001b[0m\u001b[0;34m,\u001b[0m \u001b[0mcv2\u001b[0m\u001b[0;34m.\u001b[0m\u001b[0mDRAW_MATCHES_FLAGS_DRAW_RICH_KEYPOINTS\u001b[0m\u001b[0;34m)\u001b[0m\u001b[0;34m\u001b[0m\u001b[0m\n\u001b[0;32m---> 40\u001b[0;31m     \u001b[0;32mif\u001b[0m \u001b[0;34m(\u001b[0m\u001b[0mkeypoints\u001b[0m\u001b[0;34m[\u001b[0m\u001b[0mi\u001b[0m\u001b[0;34m]\u001b[0m\u001b[0;34m!=\u001b[0m\u001b[0;34m[\u001b[0m\u001b[0;34m]\u001b[0m\u001b[0;34m)\u001b[0m\u001b[0;34m:\u001b[0m\u001b[0;34m\u001b[0m\u001b[0m\n\u001b[0m\u001b[1;32m     41\u001b[0m         \u001b[0;34m(\u001b[0m\u001b[0mx\u001b[0m\u001b[0;34m,\u001b[0m\u001b[0my\u001b[0m\u001b[0;34m)\u001b[0m \u001b[0;34m=\u001b[0m \u001b[0mkeypoints\u001b[0m\u001b[0;34m[\u001b[0m\u001b[0mi\u001b[0m\u001b[0;34m]\u001b[0m\u001b[0;34m.\u001b[0m\u001b[0mpt\u001b[0m\u001b[0;34m\u001b[0m\u001b[0m\n\u001b[1;32m     42\u001b[0m         \u001b[0mr\u001b[0m \u001b[0;34m=\u001b[0m \u001b[0mnp\u001b[0m\u001b[0;34m.\u001b[0m\u001b[0mceil\u001b[0m\u001b[0;34m(\u001b[0m\u001b[0mnp\u001b[0m\u001b[0;34m.\u001b[0m\u001b[0msqrt\u001b[0m\u001b[0;34m(\u001b[0m\u001b[0;34m(\u001b[0m\u001b[0;34m(\u001b[0m\u001b[0mkeypoints\u001b[0m\u001b[0;34m[\u001b[0m\u001b[0mi\u001b[0m\u001b[0;34m]\u001b[0m\u001b[0;34m.\u001b[0m\u001b[0msize\u001b[0m\u001b[0;34m)\u001b[0m\u001b[0;34m/\u001b[0m\u001b[0mnp\u001b[0m\u001b[0;34m.\u001b[0m\u001b[0mpi\u001b[0m\u001b[0;34m)\u001b[0m\u001b[0;34m)\u001b[0m\u001b[0;34m)\u001b[0m\u001b[0;34m+\u001b[0m\u001b[0;36m50\u001b[0m\u001b[0;34m\u001b[0m\u001b[0m\n",
      "\u001b[0;31mIndexError\u001b[0m: list index out of range"
     ]
    }
   ],
   "source": [
    "cap = cv2.VideoCapture(\"/home/abhinav/Desktop/ENPM673/Project1/data/AR Project/Input Sequences/Tag0.mp4\")\n",
    "# cap = cv2.VideoCapture(\"/home/abhinav/Desktop/ENPM673/Project1/data/AR Project/Input Sequences/multipleTags.mp4\")\n",
    "detector = cv2.SimpleBlobDetector_create()\n",
    "params = cv2.SimpleBlobDetector_Params()\n",
    "\n",
    "params.filterByArea = True\n",
    "# params.minArea = 1000\n",
    "params.maxArea = 50000\n",
    "# params.maxArea = 10000\n",
    "\n",
    "# params.filterByConvexity = True\n",
    "# params.minConvexity = 0.9\n",
    "\n",
    "# params.filterByInertia = True\n",
    "# params.minInertiaRatio = 0.8\n",
    "params.filterByColor = True\n",
    "params.blobColor = 255\n",
    "\n",
    "detector = cv2.SimpleBlobDetector_create(params)\n",
    "\n",
    "while(True):\n",
    "    i = 0\n",
    "    ret, frame = cap.read()\n",
    "    im = frame.copy()\n",
    "    frame = cv2.cvtColor(frame,cv2.COLOR_BGR2GRAY)\n",
    "    frame = cv2.GaussianBlur(frame,(5,5),0)\n",
    "    blackmin = 180     #np.array([20,50,50])\n",
    "    blackmax = 255     #np.array([60,255,255])\n",
    "    mask = cv2.inRange(frame,blackmin,blackmax)\n",
    "    \n",
    "    res = cv2.bitwise_and(frame,frame,mask = mask)\n",
    "    \n",
    "    ## Blob detection\n",
    "    \n",
    "#     detect = cv2.SimpleBlobDetector_create(params)\n",
    "    reverse_mask = mask\n",
    "    keypoints = detector.detect(reverse_mask)\n",
    "   \n",
    "    draw = cv2.drawKeypoints(res, keypoints, np.array([]), (0,0,255), cv2.DRAW_MATCHES_FLAGS_DRAW_RICH_KEYPOINTS)\n",
    "    if (keypoints[i]!=[]):    \n",
    "        (x,y) = keypoints[i].pt\n",
    "        r = np.ceil(np.sqrt(((keypoints[i].size)/np.pi)))+50\n",
    "        out = draw[int(y-r):int(y+r),int(x-r):int(x+r)]\n",
    "        cv2.imshow('videq1',out)\n",
    "#     cv2.imshow('videqo',draw)\n",
    "#     print(keypoints[i].pt[0])\n",
    "#     print(keypoints[i].size)\n",
    "#     print(keypoints.pt)\n",
    "#     print(keypoints.size)\n",
    "    i += 1 \n",
    "    \n",
    "#     cv2.imshow('video',res)\n",
    "    if cv2.waitKey(1) & 0xff==ord('q'):\n",
    "        cv2.destroyAllWindows()\n",
    "        break"
   ]
  },
  {
   "cell_type": "code",
   "execution_count": 9,
   "metadata": {},
   "outputs": [
    {
     "data": {
      "text/plain": [
       "(1080, 1920)"
      ]
     },
     "execution_count": 9,
     "metadata": {},
     "output_type": "execute_result"
    }
   ],
   "source": [
    "frame.shape"
   ]
  },
  {
   "cell_type": "code",
   "execution_count": null,
   "metadata": {},
   "outputs": [],
   "source": [
    "# frame = cv2.GaussianBlur(frame,(3,3),0)\n",
    "# #     frame = cv2.imread('/home/abhinav/Desktop/ENPM673/Project1/data/AR Project/Reference Images/ref_marker.png',0)\n",
    "#     hsv = cv2.cvtColor(frame,cv2.COLOR_BGR2HSV)\n",
    "#     blackmin = np.array([100,100,100])\n",
    "#     blackmax = np.array([255,255,255])\n",
    "#     mask = cv2.inRange(hsv,blackmin,blackmax)\n",
    "    \n",
    "#     res = cv2.bitwise_and(hsv,hsv,mask = mask)\n",
    "# #     res = res*255\n",
    "    \n",
    "# #     v = np.median(res)\n",
    "# #     lower = int(max(0,(1.0-0.33)*v))\n",
    "# #     higher = int(max(255,(1.0+0.33)*v))\n",
    "# #     res = cv2.Canny(res,lower,higher)\n",
    "# #     mask = cv2.dilate(mask/,None,iterations=1)\n",
    "# #     contours,hierarchy = cv2.findContours(res,cv2.RETR_LIST,cv2.CHAIN_APPROX_NONE)\n",
    "# #     res = \n",
    "#     #Define params for blob detection\n",
    "#     params = cv2.SimpleBlobDetector_Params()\n",
    "\n",
    "# #Filter by color\n",
    "#     params.minThreshold = 0\n",
    "#     params.maxThreshold = 50\n",
    "# #     Filter by Convexity\n",
    "# #     params.filterByConvexity = False\n",
    "# #     params.minConvexity = 1\n",
    "# #     Filter by Area.\n",
    "# #     params.filterByArea = True\n",
    "# #     params.minArea = 3600\n",
    "\n",
    "#     detect = cv2.SimpleBlobDetector_create(params)\n",
    "#     reverse_mask = 255-mask\n",
    "#     keypoints = detect.detect(reverse_mask)\n",
    "   \n",
    "#     draw = cv2.drawKeypoints(res, keypoints, np.array([]), (0,0,255), cv2.DRAW_MATCHES_FLAGS_DRAW_RICH_KEYPOINTS)\n",
    "    "
   ]
  }
 ],
 "metadata": {
  "kernelspec": {
   "display_name": "Python 2",
   "language": "python",
   "name": "python2"
  },
  "language_info": {
   "codemirror_mode": {
    "name": "ipython",
    "version": 2
   },
   "file_extension": ".py",
   "mimetype": "text/x-python",
   "name": "python",
   "nbconvert_exporter": "python",
   "pygments_lexer": "ipython2",
   "version": "2.7.12"
  }
 },
 "nbformat": 4,
 "nbformat_minor": 2
}
