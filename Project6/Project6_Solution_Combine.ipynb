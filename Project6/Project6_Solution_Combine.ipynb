{
 "cells": [
  {
   "cell_type": "code",
   "execution_count": 3,
   "metadata": {
    "scrolled": false
   },
   "outputs": [
    {
     "data": {
      "text/plain": [
       "SVC(C=1.0, cache_size=200, class_weight=None, coef0=0.0,\n",
       "  decision_function_shape='ovo', degree=3, gamma='scale', kernel='rbf',\n",
       "  max_iter=-1, probability=False, random_state=None, shrinking=True,\n",
       "  tol=0.001, verbose=False)"
      ]
     },
     "execution_count": 3,
     "metadata": {},
     "output_type": "execute_result"
    }
   ],
   "source": [
    "import numpy as np\n",
    "import cv2\n",
    "import os\n",
    "import copy\n",
    "from PIL import Image\n",
    "from skimage.feature import hog\n",
    "from skimage import feature, exposure\n",
    "from sklearn import svm\n",
    "from scipy.misc import imread\n",
    "\n",
    "path = \"input\\\\\"\n",
    "\n",
    "train_set = [[\"Training\\\\00001\", 1], [\"Training\\\\00014\", 14], [\"Training\\\\00017\", 17], [\"Training\\\\00019\", 19], \n",
    "                [\"Training\\\\00021\", 21], [\"Training\\\\00035\", 35], [\"Training\\\\00038\", 38], [\"Training\\\\00045\", 45]]\n",
    "\n",
    "frames = []\n",
    "for frame in os.listdir(path):\n",
    "    frames.append(frame)\n",
    "    frames.sort()\n",
    "\n",
    "###########################################################################################\n",
    "#####################################Training##############################################\n",
    "hog_list = []\n",
    "label_list = []\n",
    "count = 0\n",
    "\n",
    "for name in train_set:\n",
    "    value = name[0]\n",
    "    label = name[1]\n",
    "    image_list = [os.path.join(value, f) for f in os.listdir(value) if f.endswith('.ppm')]\n",
    "    #print('number of images in the folder for ',label,\"-\",len(image_list))\n",
    "    for image in image_list:\n",
    "        count += 1\n",
    "        im = np.array(Image.open(image))\n",
    "        im_gray = cv2.cvtColor(im, cv2.COLOR_BGR2GRAY)\n",
    "        im_prep = cv2.resize(im_gray, (64, 64))\n",
    "        \n",
    "        fd, h = feature.hog(im_prep, orientations=9, pixels_per_cell=(2, 2), cells_per_block=(2, 2),\n",
    "                            transform_sqrt=True, block_norm=\"L1\", visualise=True)\n",
    "        hog_list.append(h)\n",
    "        label_list.append(label)\n",
    "        \n",
    "list_hogs = []\n",
    "for hogs in hog_list:\n",
    "    hogs = hogs.reshape(64*64)\n",
    "    list_hogs.append(hogs)\n",
    "\n",
    "clf = svm.SVC(gamma='scale', decision_function_shape='ovo')\n",
    "clf.fit(list_hogs, label_list)\n",
    "###########################################################################################"
   ]
  },
  {
   "cell_type": "code",
   "execution_count": 6,
   "metadata": {},
   "outputs": [
    {
     "name": "stderr",
     "output_type": "stream",
     "text": [
      "C:\\Users\\Envy\\Anaconda3\\lib\\site-packages\\ipykernel_launcher.py:82: RuntimeWarning: invalid value encountered in true_divide\n",
      "C:\\Users\\Envy\\Anaconda3\\lib\\site-packages\\ipykernel_launcher.py:90: RuntimeWarning: invalid value encountered in true_divide\n"
     ]
    },
    {
     "name": "stdout",
     "output_type": "stream",
     "text": [
      "303.5\n"
     ]
    },
    {
     "name": "stderr",
     "output_type": "stream",
     "text": [
      "C:\\Users\\Envy\\Anaconda3\\lib\\site-packages\\skimage\\feature\\_hog.py:248: skimage_deprecation: Argument `visualise` is deprecated and will be changed to `visualize` in v0.16\n",
      "  'be changed to `visualize` in v0.16', skimage_deprecation)\n"
     ]
    },
    {
     "name": "stdout",
     "output_type": "stream",
     "text": [
      "172.5\n"
     ]
    },
    {
     "name": "stderr",
     "output_type": "stream",
     "text": [
      "C:\\Users\\Envy\\Anaconda3\\lib\\site-packages\\skimage\\feature\\_hog.py:248: skimage_deprecation: Argument `visualise` is deprecated and will be changed to `visualize` in v0.16\n",
      "  'be changed to `visualize` in v0.16', skimage_deprecation)\n",
      "C:\\Users\\Envy\\Anaconda3\\lib\\site-packages\\ipykernel_launcher.py:82: RuntimeWarning: invalid value encountered in true_divide\n",
      "C:\\Users\\Envy\\Anaconda3\\lib\\site-packages\\ipykernel_launcher.py:90: RuntimeWarning: invalid value encountered in true_divide\n",
      "C:\\Users\\Envy\\Anaconda3\\lib\\site-packages\\skimage\\feature\\_hog.py:248: skimage_deprecation: Argument `visualise` is deprecated and will be changed to `visualize` in v0.16\n",
      "  'be changed to `visualize` in v0.16', skimage_deprecation)\n",
      "C:\\Users\\Envy\\Anaconda3\\lib\\site-packages\\skimage\\feature\\_hog.py:248: skimage_deprecation: Argument `visualise` is deprecated and will be changed to `visualize` in v0.16\n",
      "  'be changed to `visualize` in v0.16', skimage_deprecation)\n"
     ]
    },
    {
     "name": "stdout",
     "output_type": "stream",
     "text": [
      "170.5\n"
     ]
    },
    {
     "name": "stderr",
     "output_type": "stream",
     "text": [
      "C:\\Users\\Envy\\Anaconda3\\lib\\site-packages\\skimage\\feature\\_hog.py:248: skimage_deprecation: Argument `visualise` is deprecated and will be changed to `visualize` in v0.16\n",
      "  'be changed to `visualize` in v0.16', skimage_deprecation)\n",
      "C:\\Users\\Envy\\Anaconda3\\lib\\site-packages\\skimage\\feature\\_hog.py:248: skimage_deprecation: Argument `visualise` is deprecated and will be changed to `visualize` in v0.16\n",
      "  'be changed to `visualize` in v0.16', skimage_deprecation)\n"
     ]
    },
    {
     "name": "stdout",
     "output_type": "stream",
     "text": [
      "419.5\n"
     ]
    },
    {
     "name": "stderr",
     "output_type": "stream",
     "text": [
      "C:\\Users\\Envy\\Anaconda3\\lib\\site-packages\\skimage\\feature\\_hog.py:248: skimage_deprecation: Argument `visualise` is deprecated and will be changed to `visualize` in v0.16\n",
      "  'be changed to `visualize` in v0.16', skimage_deprecation)\n",
      "C:\\Users\\Envy\\Anaconda3\\lib\\site-packages\\skimage\\feature\\_hog.py:248: skimage_deprecation: Argument `visualise` is deprecated and will be changed to `visualize` in v0.16\n",
      "  'be changed to `visualize` in v0.16', skimage_deprecation)\n"
     ]
    },
    {
     "name": "stdout",
     "output_type": "stream",
     "text": [
      "292.0\n"
     ]
    },
    {
     "name": "stderr",
     "output_type": "stream",
     "text": [
      "C:\\Users\\Envy\\Anaconda3\\lib\\site-packages\\skimage\\feature\\_hog.py:248: skimage_deprecation: Argument `visualise` is deprecated and will be changed to `visualize` in v0.16\n",
      "  'be changed to `visualize` in v0.16', skimage_deprecation)\n",
      "C:\\Users\\Envy\\Anaconda3\\lib\\site-packages\\skimage\\feature\\_hog.py:248: skimage_deprecation: Argument `visualise` is deprecated and will be changed to `visualize` in v0.16\n",
      "  'be changed to `visualize` in v0.16', skimage_deprecation)\n"
     ]
    },
    {
     "name": "stdout",
     "output_type": "stream",
     "text": [
      "247.5\n"
     ]
    },
    {
     "name": "stderr",
     "output_type": "stream",
     "text": [
      "C:\\Users\\Envy\\Anaconda3\\lib\\site-packages\\skimage\\feature\\_hog.py:248: skimage_deprecation: Argument `visualise` is deprecated and will be changed to `visualize` in v0.16\n",
      "  'be changed to `visualize` in v0.16', skimage_deprecation)\n",
      "C:\\Users\\Envy\\Anaconda3\\lib\\site-packages\\skimage\\feature\\_hog.py:248: skimage_deprecation: Argument `visualise` is deprecated and will be changed to `visualize` in v0.16\n",
      "  'be changed to `visualize` in v0.16', skimage_deprecation)\n"
     ]
    },
    {
     "name": "stdout",
     "output_type": "stream",
     "text": [
      "233.5\n"
     ]
    },
    {
     "name": "stderr",
     "output_type": "stream",
     "text": [
      "C:\\Users\\Envy\\Anaconda3\\lib\\site-packages\\skimage\\feature\\_hog.py:248: skimage_deprecation: Argument `visualise` is deprecated and will be changed to `visualize` in v0.16\n",
      "  'be changed to `visualize` in v0.16', skimage_deprecation)\n",
      "C:\\Users\\Envy\\Anaconda3\\lib\\site-packages\\skimage\\feature\\_hog.py:248: skimage_deprecation: Argument `visualise` is deprecated and will be changed to `visualize` in v0.16\n",
      "  'be changed to `visualize` in v0.16', skimage_deprecation)\n",
      "C:\\Users\\Envy\\Anaconda3\\lib\\site-packages\\skimage\\feature\\_hog.py:248: skimage_deprecation: Argument `visualise` is deprecated and will be changed to `visualize` in v0.16\n",
      "  'be changed to `visualize` in v0.16', skimage_deprecation)\n",
      "C:\\Users\\Envy\\Anaconda3\\lib\\site-packages\\skimage\\feature\\_hog.py:248: skimage_deprecation: Argument `visualise` is deprecated and will be changed to `visualize` in v0.16\n",
      "  'be changed to `visualize` in v0.16', skimage_deprecation)\n",
      "C:\\Users\\Envy\\Anaconda3\\lib\\site-packages\\ipykernel_launcher.py:82: RuntimeWarning: invalid value encountered in true_divide\n",
      "C:\\Users\\Envy\\Anaconda3\\lib\\site-packages\\ipykernel_launcher.py:90: RuntimeWarning: invalid value encountered in true_divide\n",
      "C:\\Users\\Envy\\Anaconda3\\lib\\site-packages\\skimage\\feature\\_hog.py:248: skimage_deprecation: Argument `visualise` is deprecated and will be changed to `visualize` in v0.16\n",
      "  'be changed to `visualize` in v0.16', skimage_deprecation)\n",
      "C:\\Users\\Envy\\Anaconda3\\lib\\site-packages\\ipykernel_launcher.py:82: RuntimeWarning: invalid value encountered in true_divide\n",
      "C:\\Users\\Envy\\Anaconda3\\lib\\site-packages\\ipykernel_launcher.py:90: RuntimeWarning: invalid value encountered in true_divide\n",
      "C:\\Users\\Envy\\Anaconda3\\lib\\site-packages\\skimage\\feature\\_hog.py:248: skimage_deprecation: Argument `visualise` is deprecated and will be changed to `visualize` in v0.16\n",
      "  'be changed to `visualize` in v0.16', skimage_deprecation)\n"
     ]
    },
    {
     "ename": "KeyboardInterrupt",
     "evalue": "",
     "output_type": "error",
     "traceback": [
      "\u001b[1;31m---------------------------------------------------------------------------\u001b[0m",
      "\u001b[1;31mKeyboardInterrupt\u001b[0m                         Traceback (most recent call last)",
      "\u001b[1;32m<ipython-input-6-57e1674c73fd>\u001b[0m in \u001b[0;36m<module>\u001b[1;34m\u001b[0m\n\u001b[0;32m     58\u001b[0m     \u001b[0mimg\u001b[0m \u001b[1;33m=\u001b[0m \u001b[0mcv2\u001b[0m\u001b[1;33m.\u001b[0m\u001b[0mimread\u001b[0m\u001b[1;33m(\u001b[0m\u001b[1;34m\"input\\\\\"\u001b[0m \u001b[1;33m+\u001b[0m \u001b[0mstr\u001b[0m\u001b[1;33m(\u001b[0m\u001b[0mframes\u001b[0m\u001b[1;33m[\u001b[0m\u001b[0mindex\u001b[0m\u001b[1;33m]\u001b[0m\u001b[1;33m)\u001b[0m\u001b[1;33m)\u001b[0m \u001b[1;31m# index # 100\u001b[0m\u001b[1;33m\u001b[0m\u001b[1;33m\u001b[0m\u001b[0m\n\u001b[0;32m     59\u001b[0m     \u001b[0mimg1\u001b[0m \u001b[1;33m=\u001b[0m \u001b[0mcv2\u001b[0m\u001b[1;33m.\u001b[0m\u001b[0mresize\u001b[0m\u001b[1;33m(\u001b[0m\u001b[0mimg\u001b[0m\u001b[1;33m,\u001b[0m \u001b[1;33m(\u001b[0m\u001b[1;36m800\u001b[0m\u001b[1;33m,\u001b[0m\u001b[1;36m600\u001b[0m\u001b[1;33m)\u001b[0m\u001b[1;33m,\u001b[0m \u001b[0minterpolation\u001b[0m \u001b[1;33m=\u001b[0m \u001b[0mcv2\u001b[0m\u001b[1;33m.\u001b[0m\u001b[0mINTER_AREA\u001b[0m\u001b[1;33m)\u001b[0m\u001b[1;33m\u001b[0m\u001b[1;33m\u001b[0m\u001b[0m\n\u001b[1;32m---> 60\u001b[1;33m     \u001b[0mdst\u001b[0m \u001b[1;33m=\u001b[0m \u001b[0mcv2\u001b[0m\u001b[1;33m.\u001b[0m\u001b[0mfastNlMeansDenoisingColored\u001b[0m\u001b[1;33m(\u001b[0m\u001b[0mimg1\u001b[0m\u001b[1;33m,\u001b[0m \u001b[1;32mNone\u001b[0m\u001b[1;33m,\u001b[0m\u001b[1;36m10\u001b[0m\u001b[1;33m,\u001b[0m\u001b[1;36m10\u001b[0m\u001b[1;33m,\u001b[0m\u001b[1;36m7\u001b[0m\u001b[1;33m,\u001b[0m\u001b[1;36m21\u001b[0m\u001b[1;33m)\u001b[0m\u001b[1;33m\u001b[0m\u001b[1;33m\u001b[0m\u001b[0m\n\u001b[0m\u001b[0;32m     61\u001b[0m \u001b[1;33m\u001b[0m\u001b[0m\n\u001b[0;32m     62\u001b[0m     \u001b[0mbluec\u001b[0m \u001b[1;33m=\u001b[0m \u001b[0mdst\u001b[0m\u001b[1;33m[\u001b[0m\u001b[1;33m:\u001b[0m\u001b[1;33m,\u001b[0m\u001b[1;33m:\u001b[0m\u001b[1;33m,\u001b[0m\u001b[1;36m0\u001b[0m\u001b[1;33m]\u001b[0m\u001b[1;33m\u001b[0m\u001b[1;33m\u001b[0m\u001b[0m\n",
      "\u001b[1;31mKeyboardInterrupt\u001b[0m: "
     ]
    }
   ],
   "source": [
    "def Classify(image):\n",
    "    hog_list_test = []\n",
    "    fd, h = feature.hog(im_prep, orientations=9, pixels_per_cell=(2, 2), cells_per_block=(2, 2),\n",
    "                            transform_sqrt=True, block_norm=\"L1\", visualise=True)\n",
    "    hog_list_test.append(h)\n",
    "    list_hogs_test = []\n",
    "    for hogs in hog_list_test:\n",
    "        hogs = hogs.reshape(64*64)\n",
    "        list_hogs_test.append(hogs)\n",
    "    \n",
    "    predictions = []\n",
    "    predictions = clf.predict(list_hogs_test)\n",
    "    #print(predictions)\n",
    "\n",
    "    if predictions[0] in [1, 17, 14, 19, 21, 35, 38, 45]:\n",
    "        result = cv2.imread('Result\\\\'+str(predictions[0])+'.png')\n",
    "    \n",
    "    return result\n",
    "    \n",
    "def findBoundingBox(contours):\n",
    "    centerdict = {}\n",
    "    \n",
    "    for i in range(0, len(contours)):\n",
    "        M = cv2.moments(contours[i])\n",
    "        \n",
    "        if M[\"m00\"] != 0:\n",
    "            cX = int(M[\"m10\"] / M[\"m00\"])\n",
    "            cY = int(M[\"m01\"] / M[\"m00\"])\n",
    "\n",
    "            if i == 0:\n",
    "                centerdict[(cX, cY)] = [i]\n",
    "            else:\n",
    "                flag = 0\n",
    "                for key in list(centerdict.keys()):\n",
    "                    if (cX - key[0])**2 + (cY - key[1])**2 - 100**2 < 0:\n",
    "                        centerdict[key].append(i)\n",
    "                        flag = 1\n",
    "                        break\n",
    "                if flag == 0:\n",
    "                    centerdict[(cX, cY)] = [i]\n",
    "    \n",
    "    boxes = [] \n",
    "    for key in list(centerdict.keys()):\n",
    "        temp = 0\n",
    "        for index in centerdict[key]:\n",
    "            area = cv2.contourArea(contours[index])\n",
    "            if area > temp:\n",
    "                temp = area\n",
    "                main = contours[index]\n",
    "        boxes.append(main)\n",
    "            \n",
    "    #print(centerdict)\n",
    "    #print(len(boxes))\n",
    "    return boxes\n",
    "                                       \n",
    "for index in range(1050, len(frames)):\n",
    "    #print(index)\n",
    "    img = cv2.imread(\"input\\\\\" + str(frames[index])) # index # 100\n",
    "    img1 = cv2.resize(img, (800,600), interpolation = cv2.INTER_AREA)\n",
    "    dst = cv2.fastNlMeansDenoisingColored(img1, None,10,10,7,21)\n",
    "\n",
    "    bluec = dst[:,:,0]\n",
    "    greenc = dst[:,:,1]\n",
    "    redc = dst[:,:,2]\n",
    "\n",
    "    minmax_img_b = bluec - np.min(bluec)\n",
    "    minmax_img_b = minmax_img_b/(np.max(bluec)-np.min(bluec))\n",
    "    minmax_img_b = minmax_img_b * 255\n",
    "\n",
    "    minmax_img_g = greenc - np.min(greenc)\n",
    "    minmax_img_g = minmax_img_g/(np.max(greenc)-np.min(greenc))\n",
    "    minmax_img_g = minmax_img_g * 255\n",
    "\n",
    "    minmax_img_r = redc - np.min(redc)\n",
    "    minmax_img_r = minmax_img_r/(np.max(redc)-np.min(redc))\n",
    "    minmax_img_r = minmax_img_r * 255\n",
    "\n",
    "    zero_img = np.zeros((img1.shape[0],img1.shape[1]))\n",
    "\n",
    "    num = minmax_img_b - minmax_img_r\n",
    "    den = minmax_img_b + minmax_img_g + minmax_img_r\n",
    "    total = num/den\n",
    "    total = np.where(np.invert(np.isnan(total)), total, 0)\n",
    "\n",
    "    normalize_img_b = (np.maximum(zero_img, total)*255).astype(np.uint8)\n",
    "\n",
    "    num1 = minmax_img_r - minmax_img_b\n",
    "    num2 = minmax_img_r - minmax_img_g\n",
    "    den1 = minmax_img_b + minmax_img_g + minmax_img_r\n",
    "    total1 = np.minimum(num1, num2)/den1\n",
    "    total1 = np.where(np.invert(np.isnan(total1)), total1, 0)\n",
    "\n",
    "    normalize_img_r = (np.maximum(zero_img, total1)*255).astype(np.uint8)\n",
    "    normalize_img_b=np.where(normalize_img_b < 35, normalize_img_b, 255) \n",
    "    #print(normalize_img_b)\n",
    "    #cv2.imshow(\"1\",normalize_img_b)\n",
    "    normalize_img_r=np.where(normalize_img_r < 20, normalize_img_r, 255) \n",
    "    #print(normalize_img_b)\n",
    "    #cv2.imshow(\"2\",normalize_img_r)\n",
    "    #mser = cv2.MSER_create(5,100,14400,0.25,0.2,200,1.01,0.003,5)\n",
    "    bmser = cv2.MSER_create(10, 100, 1000, 0.5, 0.2, 200, 1.01, 0.003, 5)\n",
    "    rmser = cv2.MSER_create(10, 100, 1000, 5, 0.2, 200, 1.01, 0.003, 5)\n",
    "    \n",
    "    imagecopy = img1.copy()\n",
    "    regions, _ = bmser.detectRegions(normalize_img_b)\n",
    "    blueregions =  findBoundingBox(regions)\n",
    "    \n",
    "    for region in blueregions:\n",
    "        x,y,w,h = cv2.boundingRect(region)\n",
    "        #print(h/w)\n",
    "        if  y < 200 and (w/h) < 1.1 :# and (h/w) >= 0.5:\n",
    "            cv2.rectangle(imagecopy,(x,y),(x+w,y+h),(0,255,0),2)\n",
    "            testimage = imagecopy[y:y+h, x:x+w]\n",
    "            testimagegray = cv2.cvtColor(testimage, cv2.COLOR_BGR2GRAY)\n",
    "            testimageresized = cv2.resize(testimagegray, (64, 64))\n",
    "            #cv2.imshow(\"1\",testimageresized)\n",
    "            resultimage = Classify(testimageresized)\n",
    "            #cv2.imshow(\"2\",resultimage)\n",
    "            resultimageresized = cv2.resize(resultimage, (w, h))\n",
    "            #print(resultimageresized.shape)\n",
    "            if x-w > 0:\n",
    "                imagecopy[y:y+h, x-w:x] = resultimageresized\n",
    "            else:\n",
    "                imagecopy[y:y+h, x+w:x+2*w] = resultimageresized\n",
    "    \n",
    "    regions1, _ = rmser.detectRegions(normalize_img_r)\n",
    "    #print('red')\n",
    "    redregions =  findBoundingBox(regions1)\n",
    "    \n",
    "    for region1 in redregions:\n",
    "        area = cv2.contourArea(region1)\n",
    "        x1,y1,w1,h1 = cv2.boundingRect(region1)\n",
    "        if y1 < 90 and x1> 400  and (w1/h1) < 1.1 and area > 170 :\n",
    "            print(area)\n",
    "            cv2.rectangle(imagecopy,(x1,y1),(x1+w1,y1+h1),(0,0,255),2)\n",
    "            testimager = imagecopy[y1:y1+h1, x1:x1+w1]\n",
    "            testimagegrayr = cv2.cvtColor(testimager, cv2.COLOR_BGR2GRAY)\n",
    "            testimageresizedr = cv2.resize(testimagegrayr, (64, 64))\n",
    "            resultimager = Classify(testimageresizedr)\n",
    "            resultimageresizedr = cv2.resize(resultimager, (w1, h1))\n",
    "            if x1-w1 > 0:\n",
    "                imagecopy[y1:y1+h1, x1-w1:x1] = resultimageresizedr\n",
    "            else:\n",
    "                imagecopy[y1:y1+h1, x1+w1:x1+2*w1] = resultimageresizedr\n",
    "            \n",
    "    #cv2.imshow('normalize1', normalize_img_b)\n",
    "    #cv2.imshow('normalize2', normalize_img_r)\n",
    "    font = cv2.FONT_HERSHEY_SIMPLEX\n",
    "    cv2.putText(imagecopy,str(index),(10,500), font, 4,(0,0,0),2,cv2.LINE_AA)\n",
    "    \n",
    "    cv2.imshow('main', imagecopy)\n",
    "    if cv2.waitKey(1) == 27:\n",
    "        break\n",
    "\n",
    "cv2.destroyAllWindows()"
   ]
  },
  {
   "cell_type": "code",
   "execution_count": null,
   "metadata": {},
   "outputs": [],
   "source": []
  }
 ],
 "metadata": {
  "kernelspec": {
   "display_name": "Python 3",
   "language": "python",
   "name": "python3"
  },
  "language_info": {
   "codemirror_mode": {
    "name": "ipython",
    "version": 3
   },
   "file_extension": ".py",
   "mimetype": "text/x-python",
   "name": "python",
   "nbconvert_exporter": "python",
   "pygments_lexer": "ipython3",
   "version": "3.5.6"
  }
 },
 "nbformat": 4,
 "nbformat_minor": 2
}
