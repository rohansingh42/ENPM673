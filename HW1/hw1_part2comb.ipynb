{
 "cells": [
  {
   "cell_type": "code",
   "execution_count": 28,
   "metadata": {},
   "outputs": [
    {
     "name": "stdout",
     "output_type": "stream",
     "text": [
      "parameters for least square \n",
      " [0.43232448 9.39865187]\n",
      "parameters for ls with regularization is \n",
      " [0.43426018 2.94204792]\n"
     ]
    },
    {
     "data": {
      "image/png": "[encoded data removed]",
      "text/plain": [
       "<Figure size 432x288 with 1 Axes>"
      ]
     },
     "metadata": {
      "needs_background": "light"
     },
     "output_type": "display_data"
    }
   ],
   "source": [
    "#least square using vertical line - a=(XT.X)^(−1)XT y where a =[a,b].T\n",
    "\n",
    "import pickle\n",
    "import numpy as np\n",
    "import matplotlib.pyplot as plt\n",
    "def matrix_lstsqr(x, y):\n",
    "    # Computes the least-squares solution to a linear matrix equation.\n",
    "    X = np.vstack([x, np.ones(len(x))]).T\n",
    "    return (np.linalg.inv(X.T.dot(X)).dot(X.T)).dot(y)\n",
    "\n",
    "with open('HW1_data\\data1_new.pkl', 'rb') as f:\n",
    "     data = pickle.load(f)\n",
    "        \n",
    "array = np.asarray(data)\n",
    "#print(array)\n",
    "x = array[:,0]\n",
    "y = array[:,1]\n",
    "c= matrix_lstsqr(x, y)\n",
    "\n",
    "print(\"parameters for least square \\n\",c)\n",
    "line_x = [round(min(x)) - 1, round(max(x)) + 1]\n",
    "line_y = [slope*x_i + intercept for x_i in line_x]\n",
    "#print(line_y)\n",
    "plt.scatter(x,y)\n",
    "plt.plot(line_x, line_y, color='red', label='vertical')\n",
    "#ftext = 'y = ax + b = {:.3f} + {:.3f}x'\\\n",
    "       # .format(slope, intercept)\n",
    "#plt.figtext(.15,.8, ftext, fontsize=11, ha='left')\n",
    "\n",
    "# orthogonal distance\n",
    "cov_matrix = np.cov(array.T)\n",
    "eig_vals, eig_vecs = np.linalg.eig(cov_matrix)\n",
    "eig_min = min(eig_vals)\n",
    "#print(eig_vals)\n",
    "#print(eig_min)\n",
    "def check(u):\n",
    "    index =0\n",
    "    if u[0]>= u[1]:\n",
    "        index=1\n",
    "    else:\n",
    "        index=0\n",
    "    return index\n",
    "index = check(eig_vals)\n",
    "a = eig_vecs[0,index]\n",
    "b = eig_vecs[1,index]\n",
    "mean_x = np.mean(x)\n",
    "mean_y = np.mean(y)\n",
    "d = a*mean_x + b*mean_y\n",
    "#print(index)\n",
    "line_x = [round(min(x)) - 1, round(max(x)) + 1]\n",
    "\n",
    "line_y = [(d-a*x_i)/b for x_i in line_x]\n",
    "#plt.scatter(x,y)\n",
    "plt.plot(line_x, line_y, color='blue',label='orthogonal')\n",
    "\n",
    "\n",
    "#Least Squares Fitting with Regularization\n",
    "#solution a=(XT.X+ lamda*I)^(−1)XT y where a =[a,b].T where lamda = eigen values\n",
    "def ls_reg(x, y,cov_matrix):\n",
    "    # Computes the least-squares solution to a linear matrix equation.\n",
    "    X = np.vstack([x, np.ones(len(x))]).T\n",
    "    eig_vals, eig_vecs = np.linalg.eig(cov_matrix)\n",
    "    lamda= np.diag(eig_vals)\n",
    "    a=np.linalg.inv(X.T.dot(X)+lamda)\n",
    "    return (a.dot(X.T)).dot(y)\n",
    "\n",
    "\n",
    "\n",
    "para_ls_reg = ls_reg(x, y,cov_matrix)\n",
    "print(\"parameters for ls with regularization is \\n\",para_ls_reg )\n",
    "\n",
    "line_x = [round(min(x)) - 1, round(max(x)) + 1]\n",
    "line_y = [slope*x_i + intercept for x_i in line_x]\n",
    "#print(line_y)\n",
    "#plt.scatter(x,y)\n",
    "plt.plot(line_x, line_y, color='yellow',label='regularization')\n",
    "plt.legend()\n",
    "plt.show()"
   ]
  },
  {
   "cell_type": "code",
   "execution_count": null,
   "metadata": {},
   "outputs": [],
   "source": []
  },
  {
   "cell_type": "code",
   "execution_count": null,
   "metadata": {},
   "outputs": [],
   "source": []
  },
  {
   "cell_type": "code",
   "execution_count": null,
   "metadata": {},
   "outputs": [],
   "source": []
  },
  {
   "cell_type": "code",
   "execution_count": null,
   "metadata": {},
   "outputs": [],
   "source": []
  }
 ],
 "metadata": {
  "kernelspec": {
   "display_name": "Python 3",
   "language": "python",
   "name": "python3"
  },
  "language_info": {
   "codemirror_mode": {
    "name": "ipython",
    "version": 3
   },
   "file_extension": ".py",
   "mimetype": "text/x-python",
   "name": "python",
   "nbconvert_exporter": "python",
   "pygments_lexer": "ipython3",
   "version": "3.7.1"
  }
 },
 "nbformat": 4,
 "nbformat_minor": 2
}
